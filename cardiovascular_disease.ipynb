{
  "nbformat": 4,
  "nbformat_minor": 0,
  "metadata": {
    "colab": {
      "name": "cardiovascular_disease.ipynb",
      "version": "0.3.2",
      "provenance": [],
      "collapsed_sections": []
    },
    "kernelspec": {
      "name": "python3",
      "display_name": "Python 3"
    },
    "accelerator": "GPU"
  },
  "cells": [
    {
      "cell_type": "markdown",
      "metadata": {
        "id": "AhtTpvJWukqi",
        "colab_type": "text"
      },
      "source": [
        "# Cardiovascular Disease Dataset\n",
        "\n",
        "\n",
        "---\n",
        "\n",
        "\n",
        "## The objective is to predict whether or not individual has a cardiovascular disease.\n",
        "\n",
        "**Dataset Information**\n",
        "\n",
        "The data set consists of a total of 11 features. The target variable is a binary value indicating whether or not a cardiovascular disease is present in the subject. <br>\n",
        "\n",
        "**Feature Information**\n",
        "\n",
        "Age | Objective Feature | age | int (days) | <br>\n",
        "Height | Objective Feature | height | int (cm) | <br>\n",
        "Weight | Objective Feature | weight | float (kg) | <br>\n",
        "Gender | Objective Feature | gender | categorical code | 1: Women, 2: Men |<br>\n",
        "Systolic blood pressure | Examination Feature | ap_hi | int | <br>\n",
        "Diastolic blood pressure | Examination Feature | ap_lo | int |<br>\n",
        "Cholesterol | Examination Feature | cholesterol | 1: normal, 2: above normal, 3: well above normal |<br>\n",
        "Glucose | Examination Feature | gluc | 1: normal, 2: above normal, 3: well above normal |<br>\n",
        "Smoking | Subjective Feature | smoke | binary |<br>\n",
        "Alcohol intake | Subjective Feature | alco | binary |<br>\n",
        "Physical activity | Subjective Feature | active | binary |<br>\n",
        "Presence or absence of cardiovascular disease | Target Variable | cardio | binary |<br>"
      ]
    },
    {
      "cell_type": "markdown",
      "metadata": {
        "id": "xzBrzyaKvIH1",
        "colab_type": "text"
      },
      "source": [
        "## 1. Import Dependencies\n",
        "\n",
        "\n",
        "---\n",
        "\n"
      ]
    },
    {
      "cell_type": "code",
      "metadata": {
        "id": "snQRV4Hz9TBH",
        "colab_type": "code",
        "colab": {}
      },
      "source": [
        "from google.colab import drive\n",
        "import pandas as pd\n",
        "import numpy as np\n",
        "import random\n",
        "import matplotlib.pyplot as plt\n",
        "from tensorflow.keras.models import Sequential\n",
        "from tensorflow.keras.layers import Dense, Activation\n",
        "import seaborn as sns"
      ],
      "execution_count": 0,
      "outputs": []
    },
    {
      "cell_type": "code",
      "metadata": {
        "id": "6mSZDny09Yjz",
        "colab_type": "code",
        "outputId": "60336a91-c8a5-4dd5-ebfc-3ca38d2337d1",
        "colab": {
          "base_uri": "https://localhost:8080/",
          "height": 34
        }
      },
      "source": [
        "drive.mount('/content/drive/') \n",
        "path = '/content/drive/My Drive/Colab Notebooks/datasets/'"
      ],
      "execution_count": 0,
      "outputs": [
        {
          "output_type": "stream",
          "text": [
            "Drive already mounted at /content/drive/; to attempt to forcibly remount, call drive.mount(\"/content/drive/\", force_remount=True).\n"
          ],
          "name": "stdout"
        }
      ]
    },
    {
      "cell_type": "markdown",
      "metadata": {
        "id": "7P7hcAqCwAib",
        "colab_type": "text"
      },
      "source": [
        "## 2. Data pre-processing\n",
        "\n",
        "\n",
        "---\n",
        "\n"
      ]
    },
    {
      "cell_type": "markdown",
      "metadata": {
        "id": "N_MRgWmnxq-j",
        "colab_type": "text"
      },
      "source": [
        "### Import data"
      ]
    },
    {
      "cell_type": "code",
      "metadata": {
        "id": "rTFp4iZu9mbB",
        "colab_type": "code",
        "outputId": "6211d74e-3a63-4526-a616-3e5fd85eb89f",
        "colab": {
          "base_uri": "https://localhost:8080/",
          "height": 118
        }
      },
      "source": [
        "data = pd.read_csv(path + 'cardio_train.csv', header=None)\n",
        "\n",
        "# each row is a set of 12 values separated by ';'\n",
        "# first objective is to transform this into a dataframe with 1 value per cell\n",
        "\n",
        "# gets list of all column names\n",
        "col_names = str(data.iloc[0][0]).split(';')\n",
        "\n",
        "# drops the 'id' column, which is basically an index\n",
        "data.drop([0], inplace=True)\n",
        "print(data.head())"
      ],
      "execution_count": 0,
      "outputs": [
        {
          "output_type": "stream",
          "text": [
            "                                        0\n",
            "1   0;18393;2;168;62.0;110;80;1;1;0;0;1;0\n",
            "2   1;20228;1;156;85.0;140;90;3;1;0;0;1;1\n",
            "3   2;18857;1;165;64.0;130;70;3;1;0;0;0;1\n",
            "4  3;17623;2;169;82.0;150;100;1;1;0;0;1;1\n",
            "5   4;17474;1;156;56.0;100;60;1;1;0;0;0;0\n"
          ],
          "name": "stdout"
        }
      ]
    },
    {
      "cell_type": "markdown",
      "metadata": {
        "id": "-Dm_nS-TyAOf",
        "colab_type": "text"
      },
      "source": [
        "### Cleanse Data"
      ]
    },
    {
      "cell_type": "code",
      "metadata": {
        "id": "FsZeA8d1ApYP",
        "colab_type": "code",
        "colab": {}
      },
      "source": [
        "# create a dictionary\n",
        "# indices are the keys and list of attributes are values\n",
        "dictionary = {}\n",
        "\n",
        "# iterate through rows\n",
        "for index, row in data.iterrows():\n",
        "    # at each row, split the values by delimiter ';''\n",
        "    lst = str(row.values).split(';')\n",
        "    lst = str(row.values[0]).split(';')\n",
        "    \n",
        "    # first value is id, so don't include it\n",
        "    lst = list(lst[1:])\n",
        "    # add to dicionary\n",
        "    dictionary[index] = lst"
      ],
      "execution_count": 0,
      "outputs": []
    },
    {
      "cell_type": "code",
      "metadata": {
        "id": "1kD2E6eKA_i5",
        "colab_type": "code",
        "colab": {}
      },
      "source": [
        "# now convert dictionary into a dataframe\n",
        "df = pd.DataFrame.from_dict(dictionary, orient='index')\n",
        "# first column name was 'id', so don't include it\n",
        "df.columns = col_names[1:]"
      ],
      "execution_count": 0,
      "outputs": []
    },
    {
      "cell_type": "code",
      "metadata": {
        "id": "MYTE_b-IEUjb",
        "colab_type": "code",
        "outputId": "6329b1b0-749c-4052-a710-cc70c029a982",
        "colab": {
          "base_uri": "https://localhost:8080/",
          "height": 235
        }
      },
      "source": [
        "# now the dataframe should be 12 columns, with a single value in each cell\n",
        "pd.set_option('display.max_columns', None) # shows all columns\n",
        "print(df.head())"
      ],
      "execution_count": 0,
      "outputs": [
        {
          "output_type": "stream",
          "text": [
            "     age gender height weight ap_hi ap_lo cholesterol gluc smoke alco active  \\\n",
            "1  18393      2    168   62.0   110    80           1    1     0    0      1   \n",
            "2  20228      1    156   85.0   140    90           3    1     0    0      1   \n",
            "3  18857      1    165   64.0   130    70           3    1     0    0      0   \n",
            "4  17623      2    169   82.0   150   100           1    1     0    0      1   \n",
            "5  17474      1    156   56.0   100    60           1    1     0    0      0   \n",
            "\n",
            "  cardio  \n",
            "1      0  \n",
            "2      1  \n",
            "3      1  \n",
            "4      1  \n",
            "5      0  \n"
          ],
          "name": "stdout"
        }
      ]
    },
    {
      "cell_type": "code",
      "metadata": {
        "id": "gElpox0XLcWn",
        "colab_type": "code",
        "colab": {}
      },
      "source": [
        "# up until this point, all values were chars/strings\n",
        "# convert entire dataframe into numerical values\n",
        "df = df.astype(float)\n",
        "\n",
        "# age represented in days, convert approximate years\n",
        "df['age'] = df['age'] // 365"
      ],
      "execution_count": 0,
      "outputs": []
    },
    {
      "cell_type": "code",
      "metadata": {
        "id": "JY0rFt09VRVm",
        "colab_type": "code",
        "outputId": "8b1310da-f48e-4933-9e25-5078ca33304b",
        "colab": {
          "base_uri": "https://localhost:8080/",
          "height": 504
        }
      },
      "source": [
        "print(df.describe())"
      ],
      "execution_count": 0,
      "outputs": [
        {
          "output_type": "stream",
          "text": [
            "                age        gender        height        weight         ap_hi  \\\n",
            "count  70000.000000  70000.000000  70000.000000  70000.000000  70000.000000   \n",
            "mean      52.840671      1.349571    164.359229     74.205690    128.817286   \n",
            "std        6.766774      0.476838      8.210126     14.395757    154.011419   \n",
            "min       29.000000      1.000000     55.000000     10.000000   -150.000000   \n",
            "25%       48.000000      1.000000    159.000000     65.000000    120.000000   \n",
            "50%       53.000000      1.000000    165.000000     72.000000    120.000000   \n",
            "75%       58.000000      2.000000    170.000000     82.000000    140.000000   \n",
            "max       64.000000      2.000000    250.000000    200.000000  16020.000000   \n",
            "\n",
            "              ap_lo   cholesterol          gluc         smoke          alco  \\\n",
            "count  70000.000000  70000.000000  70000.000000  70000.000000  70000.000000   \n",
            "mean      96.630414      1.366871      1.226457      0.088129      0.053771   \n",
            "std      188.472530      0.680250      0.572270      0.283484      0.225568   \n",
            "min      -70.000000      1.000000      1.000000      0.000000      0.000000   \n",
            "25%       80.000000      1.000000      1.000000      0.000000      0.000000   \n",
            "50%       80.000000      1.000000      1.000000      0.000000      0.000000   \n",
            "75%       90.000000      2.000000      1.000000      0.000000      0.000000   \n",
            "max    11000.000000      3.000000      3.000000      1.000000      1.000000   \n",
            "\n",
            "             active        cardio  \n",
            "count  70000.000000  70000.000000  \n",
            "mean       0.803729      0.499700  \n",
            "std        0.397179      0.500003  \n",
            "min        0.000000      0.000000  \n",
            "25%        1.000000      0.000000  \n",
            "50%        1.000000      0.000000  \n",
            "75%        1.000000      1.000000  \n",
            "max        1.000000      1.000000  \n"
          ],
          "name": "stdout"
        }
      ]
    },
    {
      "cell_type": "code",
      "metadata": {
        "id": "tSLEVKztWjdt",
        "colab_type": "code",
        "outputId": "1f166eb1-ae81-4391-e056-26ba66404b9e",
        "colab": {
          "base_uri": "https://localhost:8080/",
          "height": 504
        }
      },
      "source": [
        "# sys and di bp are incorrect, max/min are inaccurate vals\n",
        "# highest recorded BP according to NCBI NLM study was 370/360\n",
        "# adjust values accordingly\n",
        "for val in df['ap_hi']:\n",
        "    if(val > 370 or val < 0):\n",
        "        df['ap_hi'].replace(val, 20000, inplace=True)\n",
        "\n",
        "for val in df['ap_lo']:\n",
        "    if(val > 360 or val < 0):\n",
        "        df['ap_lo'].replace(val, 20000, inplace=True)\n",
        "\n",
        "df = df[~(df[['ap_lo','ap_hi']] == 20000).any(axis=1)]\n",
        "print(df.describe())\n",
        "\n",
        "# at this point, any BP values that are greater than the highest records were dropped from the dataframe"
      ],
      "execution_count": 0,
      "outputs": [
        {
          "output_type": "stream",
          "text": [
            "                age        gender        height        weight         ap_hi  \\\n",
            "count  69000.000000  69000.000000  69000.000000  69000.000000  69000.000000   \n",
            "mean      52.826754      1.348710    164.359725     74.118225    126.325145   \n",
            "std        6.769551      0.476565      8.204221     14.328629     17.721845   \n",
            "min       29.000000      1.000000     55.000000     11.000000      7.000000   \n",
            "25%       48.000000      1.000000    159.000000     65.000000    120.000000   \n",
            "50%       53.000000      1.000000    165.000000     72.000000    120.000000   \n",
            "75%       58.000000      2.000000    170.000000     82.000000    140.000000   \n",
            "max       64.000000      2.000000    250.000000    200.000000    309.000000   \n",
            "\n",
            "              ap_lo   cholesterol          gluc         smoke          alco  \\\n",
            "count  69000.000000  69000.000000  69000.000000  69000.000000  69000.000000   \n",
            "mean      81.332797      1.364377      1.225855      0.087870      0.053594   \n",
            "std        9.877680      0.678695      0.571809      0.283107      0.225217   \n",
            "min        0.000000      1.000000      1.000000      0.000000      0.000000   \n",
            "25%       80.000000      1.000000      1.000000      0.000000      0.000000   \n",
            "50%       80.000000      1.000000      1.000000      0.000000      0.000000   \n",
            "75%       90.000000      1.000000      1.000000      0.000000      0.000000   \n",
            "max      190.000000      3.000000      3.000000      1.000000      1.000000   \n",
            "\n",
            "             active        cardio  \n",
            "count  69000.000000  69000.000000  \n",
            "mean       0.803290      0.494870  \n",
            "std        0.397514      0.499977  \n",
            "min        0.000000      0.000000  \n",
            "25%        1.000000      0.000000  \n",
            "50%        1.000000      0.000000  \n",
            "75%        1.000000      1.000000  \n",
            "max        1.000000      1.000000  \n"
          ],
          "name": "stdout"
        }
      ]
    },
    {
      "cell_type": "markdown",
      "metadata": {
        "id": "5C_xSVRbvmKi",
        "colab_type": "text"
      },
      "source": [
        "## 3. Exploratory Data Analysis\n",
        "\n",
        "\n",
        "---\n",
        "\n"
      ]
    },
    {
      "cell_type": "code",
      "metadata": {
        "id": "FrzOnwNpyKzi",
        "colab_type": "code",
        "outputId": "7f410064-132f-47b8-b438-bd0c4a4d1431",
        "colab": {
          "base_uri": "https://localhost:8080/",
          "height": 67
        }
      },
      "source": [
        "# check target variable distribution\n",
        "df['cardio'].value_counts()"
      ],
      "execution_count": 0,
      "outputs": [
        {
          "output_type": "execute_result",
          "data": {
            "text/plain": [
              "0.0    34854\n",
              "1.0    34146\n",
              "Name: cardio, dtype: int64"
            ]
          },
          "metadata": {
            "tags": []
          },
          "execution_count": 10
        }
      ]
    },
    {
      "cell_type": "markdown",
      "metadata": {
        "id": "S63E5-h5GkHC",
        "colab_type": "text"
      },
      "source": [
        "### Age vs Number of Subjects with heart disease"
      ]
    },
    {
      "cell_type": "code",
      "metadata": {
        "id": "-VT6rZyoGJEE",
        "colab_type": "code",
        "outputId": "daed7e95-2354-4700-86ed-7cb5bdc098a8",
        "colab": {
          "base_uri": "https://localhost:8080/",
          "height": 505
        }
      },
      "source": [
        "plt.figure(figsize=(15, 8))\n",
        "sns.countplot(x='age', hue='cardio', data=df);\n",
        "\n",
        "plt.ylabel('count', size=15)\n",
        "plt.xlabel('age', size=15)\n",
        "\n",
        "L = plt.legend(loc='upper left', prop={'size':13})\n",
        "L.get_texts()[0].set_text('No disease')\n",
        "L.get_texts()[1].set_text('Disease present')"
      ],
      "execution_count": 0,
      "outputs": [
        {
          "output_type": "display_data",
          "data": {
            "image/png": "[encoded data removed]",
            "text/plain": [
              "<Figure size 1080x576 with 1 Axes>"
            ]
          },
          "metadata": {
            "tags": []
          }
        }
      ]
    },
    {
      "cell_type": "code",
      "metadata": {
        "id": "t2NSmInKzffy",
        "colab_type": "code",
        "colab": {}
      },
      "source": [
        "# split data into subjects with/without cardiovascular disease\n",
        "dis = df[df['cardio'] == 1] # subjects with disease\n",
        "no_dis = df[df['cardio'] == 0] # subjects without disease"
      ],
      "execution_count": 0,
      "outputs": []
    },
    {
      "cell_type": "code",
      "metadata": {
        "id": "Zn21CZpmBZXg",
        "colab_type": "code",
        "colab": {}
      },
      "source": [
        "# group data by gender and cholesterol levels\n",
        "# men with heart disease\n",
        "dis_men_chol_1 = df[(df['gender'] == 2) & (df['cholesterol'] == 1)]\n",
        "dis_men_chol_2 = df[(df['gender'] == 2) & (df['cholesterol'] == 2)]\n",
        "dis_men_chol_3 = df[(df['gender'] == 2) & (df['cholesterol'] == 3)]\n",
        "\n",
        "# women with heart disease\n",
        "dis_women_chol_1 = df[(df['gender'] == 1) & (df['cholesterol'] == 1)]\n",
        "dis_women_chol_2 = df[(df['gender'] == 1) & (df['cholesterol'] == 2)]\n",
        "dis_women_chol_3 = df[(df['gender'] == 1) & (df['cholesterol'] == 3)]\n",
        "\n",
        "\n",
        "# calculate means\n",
        "men_chol_avgs = [ dis_men_chol_1['ap_hi'].mean(), dis_men_chol_2['ap_hi'].mean(), dis_men_chol_3['ap_hi'].mean() ]\n",
        "women_chol_avgs = [ dis_women_chol_1['ap_hi'].mean(), dis_women_chol_2['ap_hi'].mean(), dis_women_chol_3['ap_hi'].mean() ]"
      ],
      "execution_count": 0,
      "outputs": []
    },
    {
      "cell_type": "markdown",
      "metadata": {
        "id": "OrZ_ZYQ1AgXA",
        "colab_type": "text"
      },
      "source": [
        "### Systolic BP vs Cholesterol"
      ]
    },
    {
      "cell_type": "code",
      "metadata": {
        "id": "XAbT1crA29Mi",
        "colab_type": "code",
        "outputId": "db858909-07d0-4871-ebeb-d711b74453d1",
        "colab": {
          "base_uri": "https://localhost:8080/",
          "height": 295
        }
      },
      "source": [
        "ind = np.arange(len(men_chol_avgs))\n",
        "width = .35\n",
        "\n",
        "fig, ax = plt.subplots()\n",
        "rects1 = ax.bar(ind - width/2, men_chol_avgs, width, label='Men')\n",
        "rects2 = ax.bar(ind + width/2, women_chol_avgs, width, label='Women')\n",
        "\n",
        "ax.set_ylabel('AVG Systolic BP')\n",
        "\n",
        "ax.set_xlabel('Cholesterol')\n",
        "ax.set_xticks(ind)\n",
        "ax.set_xticklabels(('Normal', 'Above Normal', 'High'))\n",
        "\n",
        "ax.legend(loc='lower right')\n",
        "ax.set_title('SysBP by Cholesterol and Gender')\n",
        "plt.show()"
      ],
      "execution_count": 0,
      "outputs": [
        {
          "output_type": "display_data",
          "data": {
            "image/png": "[encoded data removed]",
            "text/plain": [
              "<Figure size 432x288 with 1 Axes>"
            ]
          },
          "metadata": {
            "tags": []
          }
        }
      ]
    },
    {
      "cell_type": "markdown",
      "metadata": {
        "id": "_iMamE2bAlOY",
        "colab_type": "text"
      },
      "source": [
        "### Glucose in smokers vs non smokers"
      ]
    },
    {
      "cell_type": "code",
      "metadata": {
        "id": "vlxQfTDj-Umw",
        "colab_type": "code",
        "outputId": "aa02e956-7cb3-4ad8-f349-9418d252e23b",
        "colab": {
          "base_uri": "https://localhost:8080/",
          "height": 518
        }
      },
      "source": [
        "plt.figure(figsize=(8, 8))\n",
        "plt.title('Glucose Levels vs Age')\n",
        "\n",
        "sns.set(style=\"dark\", palette=\"husl\", color_codes=True)\n",
        "\n",
        "sns.boxplot(x=\"gluc\", y=\"age\", hue=\"smoke\", data=dis)\n",
        "L = plt.legend(loc='lower right', prop={'size':13})\n",
        "L.get_texts()[0].set_text('Non Smoker')\n",
        "L.get_texts()[1].set_text('Smoker')\n",
        "\n",
        "plt.ylabel('age', size=15)\n",
        "plt.xlabel('glucose level', size=15)\n",
        "\n",
        "plt.xticks([0, 1, 2], ['Normal', 'Above Normal', 'High'])\n",
        "plt.show()"
      ],
      "execution_count": 0,
      "outputs": [
        {
          "output_type": "display_data",
          "data": {
            "image/png": "[encoded data removed]",
            "text/plain": [
              "<Figure size 576x576 with 1 Axes>"
            ]
          },
          "metadata": {
            "tags": []
          }
        }
      ]
    },
    {
      "cell_type": "markdown",
      "metadata": {
        "id": "mawgmbFhXchr",
        "colab_type": "text"
      },
      "source": [
        "### BP and Cholesterol distributions in individuals who are healthy vs individuals with disease"
      ]
    },
    {
      "cell_type": "code",
      "metadata": {
        "id": "5dy5tbrQcSBR",
        "colab_type": "code",
        "outputId": "69c6661b-2754-47ad-c32b-aa7221581042",
        "colab": {
          "base_uri": "https://localhost:8080/",
          "height": 573
        }
      },
      "source": [
        "df_high_chol = df[(df['cholesterol'] > 1) & (df['gluc'] > 1)]\n",
        "\n",
        "plt.figure(figsize=(8,9))\n",
        "\n",
        "sns.set(style=\"dark\", palette=\"Set2\", color_codes=True)\n",
        "\n",
        "sns.violinplot(x=\"cholesterol\", y=\"ap_hi\", hue=\"cardio\", split=True, inner=\"quart\", data=df_high_chol)\n",
        "\n",
        "plt.xticks([0, 1], ['Avg/Above Avg', 'Very High'])\n",
        "plt.ylabel('Systolic Blood Pressure')\n",
        "\n",
        "L = plt.legend(loc='lower center')\n",
        "L.get_texts()[0].set_text('Healthy')\n",
        "L.get_texts()[1].set_text('Disease')\n",
        "\n",
        "plt.title('Sys BP vs Cholesterol')\n",
        "\n",
        "sns.despine(left=True)"
      ],
      "execution_count": 0,
      "outputs": [
        {
          "output_type": "display_data",
          "data": {
            "image/png": "[encoded data removed]",
            "text/plain": [
              "<Figure size 576x648 with 1 Axes>"
            ]
          },
          "metadata": {
            "tags": []
          }
        }
      ]
    },
    {
      "cell_type": "markdown",
      "metadata": {
        "id": "6ePH6uygvZQA",
        "colab_type": "text"
      },
      "source": [
        "## 4. Model\n",
        "\n",
        "\n",
        "---\n",
        "\n",
        "The model is a densely connected feed forward Neural Network. "
      ]
    },
    {
      "cell_type": "code",
      "metadata": {
        "id": "06q1B3670KDl",
        "colab_type": "code",
        "colab": {}
      },
      "source": [
        "X = df.drop('cardio', axis=1)\n",
        "y = df['cardio']"
      ],
      "execution_count": 0,
      "outputs": []
    },
    {
      "cell_type": "markdown",
      "metadata": {
        "id": "PwUwyh7GlWeC",
        "colab_type": "text"
      },
      "source": [
        "---\n",
        "### Activation Functions:\n",
        "**relu**\n",
        "<br> The vanishing gradient problem: the gradients of some activation functions becoming increasingly smaller as the number of hidden layers increases. This is problematic because the parameters in the neural network won't be tuned effectively.\n",
        "<br>ReLU overcomes this problem. Formula:\n",
        ">$R(x) = \n",
        " \\begin{Bmatrix}\n",
        "  x & x > 0 \\\\\n",
        "  0 & x <= 0 \n",
        " \\end{Bmatrix}$<br>\n",
        " \n",
        "Since the ReLU has a range of [0, $\\infty$], gradients won't diminish.\n",
        "\n",
        "**sigmoid**\n",
        "<br>Activation function used in the output layer. Effective for classification problems. Formula:\n",
        ">$S(x) = \\LARGE\\frac{1}{1+e^{-x}}$\n",
        "\n",
        "---\n",
        "\n",
        "### Loss Function:\n",
        "**Binary Crossentropy**\n",
        "<br>Cross entropy is calculated by finding the predicted probability (the probability of classification being correct based on given data). Larger predicted probabilities yeild lower losses. Formula:\n",
        ">$Loss = −(y\\cdot log(p)+(1−y) \\cdot log(1−p))$\n",
        "><br>y: whether or not classification was correct\n",
        "><br>p: predicted probability\n",
        "\n",
        "The only difference between the cross entropy and binary cross entropy loss functions is that binary cross entropy includes a sigmoid activation function.\n",
        "\n",
        "---\n",
        "### Optmization Function:\n",
        "**Adam Optmizier**\n",
        "<br> Calculates adaptive learning rates for each parameter. First computes exponentially weighted average of:\n",
        "1. past gradients\n",
        "2. past square gradients\n",
        "\n",
        "This gives us the mean, and variance of the gradients. These averages have a bias towards 0, so after the bias is corrected, the parameters are updated.\n",
        "\n",
        "---"
      ]
    },
    {
      "cell_type": "code",
      "metadata": {
        "id": "_kQbB39hpKQn",
        "colab_type": "code",
        "colab": {}
      },
      "source": [
        "model = Sequential()\n",
        "model.add(Dense(64, activation='relu', input_shape = (11,) ))\n",
        "model.add(Dense(32, activation='relu'))\n",
        "model.add(Dense(16, activation='relu'))\n",
        "model.add(Dense(8, activation='relu'))\n",
        "model.add(Dense(1, activation='sigmoid'))\n",
        "\n",
        "model.compile(optimizer='adam', loss='binary_crossentropy', metrics=['accuracy'])"
      ],
      "execution_count": 0,
      "outputs": []
    },
    {
      "cell_type": "code",
      "metadata": {
        "id": "PpoQDOLQrKjx",
        "colab_type": "code",
        "outputId": "9f7af9bb-44c7-45a7-c95b-5a190c24e8bf",
        "colab": {
          "base_uri": "https://localhost:8080/",
          "height": 386
        }
      },
      "source": [
        "model.fit(X, y, epochs=10, batch_size=32, validation_split = .2)"
      ],
      "execution_count": 0,
      "outputs": [
        {
          "output_type": "stream",
          "text": [
            "Train on 55200 samples, validate on 13800 samples\n",
            "Epoch 1/10\n",
            "55200/55200 [==============================] - 6s 106us/sample - loss: 0.6025 - acc: 0.6891 - val_loss: 0.5791 - val_acc: 0.7024\n",
            "Epoch 2/10\n",
            "55200/55200 [==============================] - 6s 103us/sample - loss: 0.5779 - acc: 0.7070 - val_loss: 0.5854 - val_acc: 0.6954\n",
            "Epoch 3/10\n",
            "55200/55200 [==============================] - 6s 105us/sample - loss: 0.5740 - acc: 0.7111 - val_loss: 0.5745 - val_acc: 0.7094\n",
            "Epoch 4/10\n",
            "55200/55200 [==============================] - 6s 105us/sample - loss: 0.5707 - acc: 0.7129 - val_loss: 0.5708 - val_acc: 0.7135\n",
            "Epoch 5/10\n",
            "55200/55200 [==============================] - 6s 103us/sample - loss: 0.5689 - acc: 0.7139 - val_loss: 0.5711 - val_acc: 0.7128\n",
            "Epoch 6/10\n",
            "55200/55200 [==============================] - 6s 103us/sample - loss: 0.5679 - acc: 0.7145 - val_loss: 0.5725 - val_acc: 0.7120\n",
            "Epoch 7/10\n",
            "55200/55200 [==============================] - 6s 103us/sample - loss: 0.5665 - acc: 0.7151 - val_loss: 0.5846 - val_acc: 0.6986\n",
            "Epoch 8/10\n",
            "55200/55200 [==============================] - 6s 104us/sample - loss: 0.5661 - acc: 0.7163 - val_loss: 0.5697 - val_acc: 0.7136\n",
            "Epoch 9/10\n",
            "55200/55200 [==============================] - 6s 104us/sample - loss: 0.5642 - acc: 0.7179 - val_loss: 0.5728 - val_acc: 0.7044\n",
            "Epoch 10/10\n",
            "55200/55200 [==============================] - 6s 107us/sample - loss: 0.5636 - acc: 0.7190 - val_loss: 0.5661 - val_acc: 0.7175\n"
          ],
          "name": "stdout"
        },
        {
          "output_type": "execute_result",
          "data": {
            "text/plain": [
              "<tensorflow.python.keras.callbacks.History at 0x7f3e00447a90>"
            ]
          },
          "metadata": {
            "tags": []
          },
          "execution_count": 28
        }
      ]
    },
    {
      "cell_type": "markdown",
      "metadata": {
        "id": "aebh9RlGI6dU",
        "colab_type": "text"
      },
      "source": [
        " **Accuracy on validation data: 71.75%**"
      ]
    }
  ]
}